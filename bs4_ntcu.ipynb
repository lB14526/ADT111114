{
 "cells": [
  {
   "cell_type": "code",
   "execution_count": 1,
   "id": "888c8b5d-84c9-4bc3-8a6b-1edf02902bad",
   "metadata": {},
   "outputs": [
    {
     "name": "stdout",
     "output_type": "stream",
     "text": [
      "找到 11 次\n"
     ]
    }
   ],
   "source": [
    "import requests\n",
    "url = 'https://2023ntcu.ntcu.edu.tw/'\n",
    "html = requests.get(url)\n",
    "html.encoding=\"utf-8\"\n",
    "#print(html.text)\n",
    "htmllist = html.text.splitlines()\n",
    "\n",
    "n=0\n",
    "keyword = \"大學\"\n",
    "for row in htmllist:\n",
    "    if keyword in row:\n",
    "        n = n+1\n",
    "\n",
    "print(\"找到 {} 次\".format(n))\n"
   ]
  },
  {
   "cell_type": "code",
   "execution_count": null,
   "id": "2b1f8f30-be9d-4e8b-a759-845ec711a558",
   "metadata": {},
   "outputs": [],
   "source": []
  }
 ],
 "metadata": {
  "kernelspec": {
   "display_name": "Python 3 (ipykernel)",
   "language": "python",
   "name": "python3"
  },
  "language_info": {
   "codemirror_mode": {
    "name": "ipython",
    "version": 3
   },
   "file_extension": ".py",
   "mimetype": "text/x-python",
   "name": "python",
   "nbconvert_exporter": "python",
   "pygments_lexer": "ipython3",
   "version": "3.12.4"
  }
 },
 "nbformat": 4,
 "nbformat_minor": 5
}
